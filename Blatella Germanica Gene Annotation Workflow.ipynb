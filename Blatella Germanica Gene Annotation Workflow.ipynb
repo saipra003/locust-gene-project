{
 "cells": [
  {
   "attachments": {},
   "cell_type": "markdown",
   "metadata": {},
   "source": [
    "# Blatella Germanica Gene Annotation Workflow\n",
    "I created this program to make the gene annotation for the ebony gene in Blatella Germanica and genes in various other species faster and easier. Simply give the accession number of the sequence (can be found on the NCBI website) and the identifier for your specific CDS, and the program will output the mRNA sequence, extended gene region (region of the sequence containing your coding sequences), and coordinates of exons in the mRNA and extended gene region sequences (coordinates output format is a .csv file). For more information, please refer to the flow chart below. \n",
    "!![](Cockaroch Gene Annotation Workflow Chart.png)"
   ]
  },
  {
   "cell_type": "code",
   "execution_count": 1,
   "metadata": {
    "collapsed": true
   },
   "outputs": [],
   "source": [
    "# import necessary modules for workflow\n",
    "\n",
    "from Bio import SeqIO\n",
    "import pandas as pd\n",
    "from datetime import datetime as dt\n",
    "from Bio.Seq import Seq\n",
    "from Bio.Alphabet import generic_dna\n",
    "from Bio.SeqRecord import SeqRecord\n",
    "from Bio.SeqFeature import FeatureLocation\n",
    "from Bio import Entrez\n",
    "\n",
    "# define functions for workflow\n",
    "\n",
    "\n",
    "## function that pulls appropriate CDS sequence from the obtained sequence\n",
    "\n",
    "def get_cds_feature_with_qualifier_value(seq_record, name, value):\n",
    "    \"\"\"Function to look for CDS feature by annotation value in sequence record.\n",
    "    \n",
    "    e.g. You can use this for finding features by locus tag, gene ID, or protein ID.\n",
    "    \"\"\"\n",
    "    # Loop over the features\n",
    "    for feature in genome_record.features:\n",
    "        if feature.type == \"CDS\" and value in feature.qualifiers.get(name, []):\n",
    "            return feature\n",
    "    # Could not find it\n",
    "    return None\n",
    "\n",
    "def seq_to_FASTA(seq, output):\n",
    "    seq_record = SeqRecord(seq, id = \"randomsequence\")\n",
    "    SeqIO.write(seq_record, output + '.fasta', 'fasta')\n",
    "\n",
    "def start_stop(seq_1, seq_2):\n",
    "    if len(seq_1) > len(seq_2):\n",
    "        main = seq_1\n",
    "        target = seq_2\n",
    "    else: \n",
    "        main = seq_2\n",
    "        target = seq_1\n",
    "    if main.count(target) == 1:\n",
    "        loc_1 = main.find(target) + 1\n",
    "        loc_1_final = loc_1 - 1\n",
    "        loc_2 = loc_1_final + len(target)\n",
    "        start_end = [loc_1, loc_2]\n",
    "        return start_end \n",
    "    else: \n",
    "        return 'Error: This exons is either not present in the sequence or present multiple times'  \n"
   ]
  },
  {
   "cell_type": "code",
   "execution_count": 2,
   "metadata": {
    "collapsed": true
   },
   "outputs": [],
   "source": [
    "# obtain DNA sequence from NCBI database\n",
    "\n",
    "Entrez.email = \"saipra003@gmail.com\"  # Always tell NCBI who you are\n",
    "handle = Entrez.efetch(db=\"nucleotide\", id=\"PYGN01000205.1\", rettype=\"gb\", retmode=\"text\")\n",
    "\n",
    "# read the obtained sequence from database into a Biopython object\n",
    "\n",
    "genome_record = SeqIO.read(handle, 'genbank')"
   ]
  },
  {
   "cell_type": "code",
   "execution_count": 3,
   "metadata": {},
   "outputs": [
    {
     "data": {
      "text/plain": [
       "1"
      ]
     },
     "execution_count": 3,
     "metadata": {},
     "output_type": "execute_result"
    }
   ],
   "source": [
    "# Extract the reverse complement mRNA sequence and save to FASTA file for later annotation in SnapGene\n",
    "cds_feature = get_cds_feature_with_qualifier_value(handle, \"locus_tag\", \"C0J52_11788\")\n",
    "mRNA_seq = cds_feature.extract(genome_record.seq)\n",
    "\n",
    "# Save mRNA sequence to file for later use\n",
    "mRNA_seq_record = SeqRecord(mRNA_seq, id = \"randomsequence\")\n",
    "SeqIO.write(mRNA_seq_record, 'mRNA_seq.fasta', 'fasta')"
   ]
  },
  {
   "cell_type": "code",
   "execution_count": 4,
   "metadata": {
    "collapsed": true
   },
   "outputs": [],
   "source": [
    "#Locate start and stop of CDS sequence to get extended gene region\n",
    "\n",
    "start = cds_feature.location.start\n",
    "end = cds_feature.location.end\n",
    "#extend the start and stop positions by around 1kb\n",
    "\n",
    "start = start - 1000\n",
    "end = end + 1000\n",
    "\n",
    "#Save the extended region for later annotation in SnapGene\n",
    "\n",
    "dna_seq = genome_record.seq\n",
    "ext_dna_region = dna_seq[start+1:end+1]\n",
    "ext_dna_region = ext_dna_region.reverse_complement()\n",
    "seq_to_FASTA(ext_dna_region, 'Cockaroach Ebony Extended DNA Region')"
   ]
  },
  {
   "cell_type": "code",
   "execution_count": 5,
   "metadata": {
    "collapsed": true
   },
   "outputs": [],
   "source": [
    "# Extract the CDS sequences from the main gene region while keeping the sequence for each exon separate\n",
    "loc_feat = cds_feature.location.parts\n",
    "loc_feat\n",
    "exons = []\n",
    "for feature in loc_feat:\n",
    "    parts = feature.parts\n",
    "    for coord in parts:\n",
    "        lgth = len(coord)\n",
    "        start = min(coord)\n",
    "        end = start + lgth\n",
    "        exons.append(dna_seq[start:end])"
   ]
  },
  {
   "cell_type": "code",
   "execution_count": 6,
   "metadata": {},
   "outputs": [
    {
     "data": {
      "text/html": [
       "<div>\n",
       "<style scoped>\n",
       "    .dataframe tbody tr th:only-of-type {\n",
       "        vertical-align: middle;\n",
       "    }\n",
       "\n",
       "    .dataframe tbody tr th {\n",
       "        vertical-align: top;\n",
       "    }\n",
       "\n",
       "    .dataframe thead th {\n",
       "        text-align: right;\n",
       "    }\n",
       "</style>\n",
       "<table border=\"1\" class=\"dataframe\">\n",
       "  <thead>\n",
       "    <tr style=\"text-align: right;\">\n",
       "      <th></th>\n",
       "      <th>start</th>\n",
       "      <th>stop</th>\n",
       "    </tr>\n",
       "  </thead>\n",
       "  <tbody>\n",
       "    <tr>\n",
       "      <th>0</th>\n",
       "      <td>1002</td>\n",
       "      <td>2217</td>\n",
       "    </tr>\n",
       "    <tr>\n",
       "      <th>1</th>\n",
       "      <td>6497</td>\n",
       "      <td>6738</td>\n",
       "    </tr>\n",
       "    <tr>\n",
       "      <th>2</th>\n",
       "      <td>9724</td>\n",
       "      <td>10178</td>\n",
       "    </tr>\n",
       "    <tr>\n",
       "      <th>3</th>\n",
       "      <td>11500</td>\n",
       "      <td>11947</td>\n",
       "    </tr>\n",
       "    <tr>\n",
       "      <th>4</th>\n",
       "      <td>13672</td>\n",
       "      <td>13809</td>\n",
       "    </tr>\n",
       "  </tbody>\n",
       "</table>\n",
       "</div>"
      ],
      "text/plain": [
       "   start   stop\n",
       "0   1002   2217\n",
       "1   6497   6738\n",
       "2   9724  10178\n",
       "3  11500  11947\n",
       "4  13672  13809"
      ]
     },
     "metadata": {},
     "output_type": "display_data"
    }
   ],
   "source": [
    "coordinates_ext_gene = []\n",
    "\n",
    "for exon in exons:\n",
    "    exon = exon.reverse_complement()\n",
    "    d = start_stop(exon, ext_dna_region)\n",
    "    coordinates_ext_gene.append(d)\n",
    "\n",
    "ext_gene_coordinates = pd.DataFrame(coordinates_ext_gene, columns = ['start', 'stop'])\n",
    "\n",
    "# Write the dataframe to a csv file because it is more portable\n",
    "ext_gene_coordinates.to_csv('ext_gene_coordinates.csv', index = False)\n",
    "\n",
    "display(ext_gene_coordinates)"
   ]
  },
  {
   "cell_type": "code",
   "execution_count": 7,
   "metadata": {},
   "outputs": [
    {
     "data": {
      "text/html": [
       "<div>\n",
       "<style scoped>\n",
       "    .dataframe tbody tr th:only-of-type {\n",
       "        vertical-align: middle;\n",
       "    }\n",
       "\n",
       "    .dataframe tbody tr th {\n",
       "        vertical-align: top;\n",
       "    }\n",
       "\n",
       "    .dataframe thead th {\n",
       "        text-align: right;\n",
       "    }\n",
       "</style>\n",
       "<table border=\"1\" class=\"dataframe\">\n",
       "  <thead>\n",
       "    <tr style=\"text-align: right;\">\n",
       "      <th></th>\n",
       "      <th>start</th>\n",
       "      <th>stop</th>\n",
       "    </tr>\n",
       "  </thead>\n",
       "  <tbody>\n",
       "    <tr>\n",
       "      <th>0</th>\n",
       "      <td>1</td>\n",
       "      <td>1216</td>\n",
       "    </tr>\n",
       "    <tr>\n",
       "      <th>1</th>\n",
       "      <td>1217</td>\n",
       "      <td>1458</td>\n",
       "    </tr>\n",
       "    <tr>\n",
       "      <th>2</th>\n",
       "      <td>1459</td>\n",
       "      <td>1913</td>\n",
       "    </tr>\n",
       "    <tr>\n",
       "      <th>3</th>\n",
       "      <td>1914</td>\n",
       "      <td>2361</td>\n",
       "    </tr>\n",
       "    <tr>\n",
       "      <th>4</th>\n",
       "      <td>2362</td>\n",
       "      <td>2499</td>\n",
       "    </tr>\n",
       "  </tbody>\n",
       "</table>\n",
       "</div>"
      ],
      "text/plain": [
       "   start  stop\n",
       "0      1  1216\n",
       "1   1217  1458\n",
       "2   1459  1913\n",
       "3   1914  2361\n",
       "4   2362  2499"
      ]
     },
     "metadata": {},
     "output_type": "display_data"
    }
   ],
   "source": [
    "# Repetition of the same code as above but for mRNA \n",
    "coordinates_mRNA = []\n",
    "for exon in exons:\n",
    "    exon = exon.reverse_complement()\n",
    "    r = start_stop(exon, mRNA_seq)\n",
    "    coordinates_mRNA.append(r)\n",
    "mRNA_coordinates = pd.DataFrame(coordinates_mRNA, columns = ['start', 'stop'])\n",
    "\n",
    "# Write the dataframe to a csv file because it is more portable\n",
    "mRNA_coordinates.to_csv('mRNA_coordinates.csv', index = False)\n",
    "\n",
    "display(mRNA_coordinates)"
   ]
  }
 ],
 "metadata": {
  "kernelspec": {
   "display_name": "Python 3",
   "language": "python",
   "name": "python3"
  },
  "language_info": {
   "codemirror_mode": {
    "name": "ipython",
    "version": 3
   },
   "file_extension": ".py",
   "mimetype": "text/x-python",
   "name": "python",
   "nbconvert_exporter": "python",
   "pygments_lexer": "ipython3",
   "version": "3.6.3"
  }
 },
 "nbformat": 4,
 "nbformat_minor": 2
}
