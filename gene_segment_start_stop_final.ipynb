{
 "cells": [
  {
   "cell_type": "markdown",
   "metadata": {},
   "source": [
    "# Gene Annotation Project\n",
    "In this project, we are primarily concerned with annotating the ebony gene from flyBase. The end goal of this python program is to anootate the ebony gene in the SnapGene viewer. "
   ]
  },
  {
   "cell_type": "code",
   "execution_count": 1,
   "metadata": {},
   "outputs": [
    {
     "data": {
      "text/plain": [
       "{'FBgn0000527_FBgn0000527:1': Seq('GGATAACTACCTGCCCAAGGGTCTCAACCAAATCCTGCACTCGTTCATGATGGG...ATT', SingleLetterAlphabet()),\n",
       " 'FBgn0000527_FBgn0000527:2': Seq('GATATCTGGAATGTGCTGGTGGAGCGGGACCTAAGTTTCGTGGTCTACGATACC...CAG', SingleLetterAlphabet()),\n",
       " 'FBgn0000527_FBgn0000527:3': Seq('CATTATTGTGGCTAGCTTCTATAACAAGGCCGACCTGGAGCAGTGGCTCAAGCC...AAC', SingleLetterAlphabet()),\n",
       " 'FBgn0000527_FBgn0000527:4': Seq('AATACGCCCGTTTGTATCGCACTGGAGACTATGGATCCCTGAAGAACGGCAGCA...CGA', SingleLetterAlphabet()),\n",
       " 'FBgn0000527_FBgn0000527:5': Seq('GCATTCCACTGTCGAATACCGTGGTCTATTTGTTGGATGCCGACTATCGTCCGG...AGA', SingleLetterAlphabet()),\n",
       " 'FBgn0000527_FBgn0000527:6': Seq('TTAATATATCTTCAAGATGGGTTCGCTGCCACAATTGTCGATCGTCAAGGGTCT...TAG', SingleLetterAlphabet()),\n",
       " 'FBgn0000527_FBgn0000527:7': Seq('ATTAGTCTGCGAGCGCCGTTTACAAGTACATAGCACGTTGAGTTTCCCGAGTGC...ACG', SingleLetterAlphabet())}"
      ]
     },
     "execution_count": 1,
     "metadata": {},
     "output_type": "execute_result"
    }
   ],
   "source": [
    "from Bio import SeqIO\n",
    "import pandas as pd\n",
    "from datetime import datetime as dt\n",
    "\n",
    "#extract sequence from FASTA file\n",
    "def openFASTA(file_name):\n",
    "    for seq_record in SeqIO.parse(file_name + \".fasta\", \"fasta\"):\n",
    "        return seq_record.seq\n",
    "        \n",
    "def start_stop(seq_1, seq_2):\n",
    "    if len(seq_1) > len(seq_2):\n",
    "        main = seq_1\n",
    "        target = seq_2\n",
    "    else: \n",
    "        main = seq_2\n",
    "        target = seq_1\n",
    "    if main.count(target) == 1:\n",
    "        loc_1 = main.find(target) + 1\n",
    "        loc_1_final = loc_1 - 1\n",
    "        loc_2 = loc_1_final + len(target)\n",
    "        start_end = [loc_1, loc_2]\n",
    "        return start_end \n",
    "    else: \n",
    "        return 'Error: Multiple instances of this exon detected'  \n",
    "    \n",
    "def open_multi_FASTA(file_name):\n",
    "    from Bio import SeqIO\n",
    "    exons = {}\n",
    "    for seq_record in SeqIO.parse(file_name + \".fasta\", \"fasta\"):\n",
    "        gene_id = seq_record.id\n",
    "        exons[gene_id] = seq_record.seq\n",
    "    return exons\n",
    "\n",
    "open_multi_FASTA('all_files')"
   ]
  },
  {
   "cell_type": "code",
   "execution_count": 2,
   "metadata": {},
   "outputs": [
    {
     "name": "stdout",
     "output_type": "stream",
     "text": [
      "Enter name of the extended gene region file: ebony_ext_gene\n",
      "Enter name of exon file: all_files\n",
      "Enter Sequence Type: exon\n",
      "Are the region(s) represented in this file continuous? (Input Y or N): N\n"
     ]
    },
    {
     "data": {
      "text/html": [
       "<div>\n",
       "<style scoped>\n",
       "    .dataframe tbody tr th:only-of-type {\n",
       "        vertical-align: middle;\n",
       "    }\n",
       "\n",
       "    .dataframe tbody tr th {\n",
       "        vertical-align: top;\n",
       "    }\n",
       "\n",
       "    .dataframe thead th {\n",
       "        text-align: right;\n",
       "    }\n",
       "</style>\n",
       "<table border=\"1\" class=\"dataframe\">\n",
       "  <thead>\n",
       "    <tr style=\"text-align: right;\">\n",
       "      <th></th>\n",
       "      <th>exon_id</th>\n",
       "      <th>start_nucl_pos</th>\n",
       "      <th>stop_nucl_pos</th>\n",
       "    </tr>\n",
       "  </thead>\n",
       "  <tbody>\n",
       "    <tr>\n",
       "      <th>6</th>\n",
       "      <td>FBgn0000527_FBgn0000527:7</td>\n",
       "      <td>2001</td>\n",
       "      <td>2283</td>\n",
       "    </tr>\n",
       "    <tr>\n",
       "      <th>1</th>\n",
       "      <td>FBgn0000527_FBgn0000527:6</td>\n",
       "      <td>6145</td>\n",
       "      <td>7268</td>\n",
       "    </tr>\n",
       "    <tr>\n",
       "      <th>5</th>\n",
       "      <td>FBgn0000527_FBgn0000527:5</td>\n",
       "      <td>7335</td>\n",
       "      <td>7502</td>\n",
       "    </tr>\n",
       "    <tr>\n",
       "      <th>3</th>\n",
       "      <td>FBgn0000527_FBgn0000527:4</td>\n",
       "      <td>7590</td>\n",
       "      <td>8361</td>\n",
       "    </tr>\n",
       "    <tr>\n",
       "      <th>0</th>\n",
       "      <td>FBgn0000527_FBgn0000527:3</td>\n",
       "      <td>8428</td>\n",
       "      <td>8518</td>\n",
       "    </tr>\n",
       "    <tr>\n",
       "      <th>4</th>\n",
       "      <td>FBgn0000527_FBgn0000527:2</td>\n",
       "      <td>8580</td>\n",
       "      <td>8755</td>\n",
       "    </tr>\n",
       "    <tr>\n",
       "      <th>2</th>\n",
       "      <td>FBgn0000527_FBgn0000527:1</td>\n",
       "      <td>8812</td>\n",
       "      <td>9339</td>\n",
       "    </tr>\n",
       "  </tbody>\n",
       "</table>\n",
       "</div>"
      ],
      "text/plain": [
       "                     exon_id  start_nucl_pos  stop_nucl_pos\n",
       "6  FBgn0000527_FBgn0000527:7            2001           2283\n",
       "1  FBgn0000527_FBgn0000527:6            6145           7268\n",
       "5  FBgn0000527_FBgn0000527:5            7335           7502\n",
       "3  FBgn0000527_FBgn0000527:4            7590           8361\n",
       "0  FBgn0000527_FBgn0000527:3            8428           8518\n",
       "4  FBgn0000527_FBgn0000527:2            8580           8755\n",
       "2  FBgn0000527_FBgn0000527:1            8812           9339"
      ]
     },
     "metadata": {},
     "output_type": "display_data"
    }
   ],
   "source": [
    "main_file = input ('Enter name of the extended gene region file: ')\n",
    "target_file =  input(\"Enter name of exon file: \") \n",
    "sequence_type = input('Enter Sequence Type: ')\n",
    "multiple_files = input('Are the region(s) represented in this file continuous? (Input Y or N): ' )\n",
    "\n",
    "first_terms = []\n",
    "last_terms = []\n",
    "final_dict = {}\n",
    "exon_names = []\n",
    "cols = [sequence_type, 'Start Nucleotide Position', 'Stop Nucleotide Position']\n",
    "\n",
    "ext_region = openFASTA(main_file)\n",
    "\n",
    "if multiple_files == 'N':\n",
    "    exons = open_multi_FASTA(target_file)\n",
    "    for gene_id in exons:\n",
    "        seq = exons[gene_id]\n",
    "        point = start_stop(seq, ext_region)\n",
    "        final_dict[gene_id] = point\n",
    "\n",
    "else:\n",
    "    exons = openFASTA(target_file)\n",
    "    seq = exons[gene_id]\n",
    "    point = start_stop(seq, ext_region)\n",
    "    final_dict[gene_id] = point\n",
    "\n",
    "\n",
    "start_stop_df = pd.DataFrame(final_dict)\n",
    "start_stop_df = start_stop_df.transpose()\n",
    "start_stop_df.reset_index(inplace = True, level = 0)\n",
    "start_stop_df.columns = ['exon_id','start_nucl_pos', 'stop_nucl_pos'] \n",
    "start_stop_df = start_stop_df.sort_values(by = ['start_nucl_pos'], ascending = True)\n",
    "\n",
    "today = dt.today().strftime('%Y-%m-%d')\n",
    "output_file = 'ebony_gene_exons_' + today + '.csv'\n",
    "start_stop_df.to_csv(output_file, index = False)\n",
    "\n",
    "display(start_stop_df)"
   ]
  },
  {
   "cell_type": "code",
   "execution_count": null,
   "metadata": {
    "collapsed": true
   },
   "outputs": [],
   "source": []
  }
 ],
 "metadata": {
  "kernelspec": {
   "display_name": "Python 3",
   "language": "python",
   "name": "python3"
  },
  "language_info": {
   "codemirror_mode": {
    "name": "ipython",
    "version": 3
   },
   "file_extension": ".py",
   "mimetype": "text/x-python",
   "name": "python",
   "nbconvert_exporter": "python",
   "pygments_lexer": "ipython3",
   "version": "3.6.3"
  }
 },
 "nbformat": 4,
 "nbformat_minor": 2
}
